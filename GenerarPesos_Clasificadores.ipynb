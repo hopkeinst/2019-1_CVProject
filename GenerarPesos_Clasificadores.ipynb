{
 "cells": [
  {
   "cell_type": "code",
   "execution_count": 1,
   "metadata": {},
   "outputs": [],
   "source": [
    "import tensorflow as tf\n",
    "from tensorflow import keras\n",
    "import numpy as np\n",
    "import cv2 as cv\n",
    "import matplotlib.pyplot as plt\n",
    "import sys\n",
    "import os\n",
    "import ssl\n",
    "import random\n",
    "\n",
    "ssl._create_default_https_context = ssl._create_unverified_context"
   ]
  },
  {
   "cell_type": "code",
   "execution_count": 2,
   "metadata": {},
   "outputs": [
    {
     "name": "stderr",
     "output_type": "stream",
     "text": [
      "WARNING: Logging before flag parsing goes to stderr.\n",
      "W0821 00:54:54.388634 140734889190848 deprecation.py:506] From /Library/Frameworks/Python.framework/Versions/3.6/lib/python3.6/site-packages/tensorflow/python/ops/init_ops.py:1251: calling VarianceScaling.__init__ (from tensorflow.python.ops.init_ops) with dtype is deprecated and will be removed in a future version.\n",
      "Instructions for updating:\n",
      "Call initializer instance with the dtype argument instead of passing it to the constructor\n"
     ]
    },
    {
     "name": "stdout",
     "output_type": "stream",
     "text": [
      "Model: \"sequential\"\n",
      "_________________________________________________________________\n",
      "Layer (type)                 Output Shape              Param #   \n",
      "=================================================================\n",
      "conv2d (Conv2D)              (None, 28, 28, 32)        832       \n",
      "_________________________________________________________________\n",
      "max_pooling2d (MaxPooling2D) (None, 14, 14, 32)        0         \n",
      "_________________________________________________________________\n",
      "conv2d_1 (Conv2D)            (None, 10, 10, 64)        51264     \n",
      "_________________________________________________________________\n",
      "max_pooling2d_1 (MaxPooling2 (None, 5, 5, 64)          0         \n",
      "_________________________________________________________________\n",
      "flatten (Flatten)            (None, 1600)              0         \n",
      "_________________________________________________________________\n",
      "dense (Dense)                (None, 800)               1280800   \n",
      "_________________________________________________________________\n",
      "dense_1 (Dense)              (None, 120)               96120     \n",
      "_________________________________________________________________\n",
      "dense_2 (Dense)              (None, 84)                10164     \n",
      "_________________________________________________________________\n",
      "dense_3 (Dense)              (None, 36)                3060      \n",
      "=================================================================\n",
      "Total params: 1,442,240\n",
      "Trainable params: 1,442,240\n",
      "Non-trainable params: 0\n",
      "_________________________________________________________________\n"
     ]
    }
   ],
   "source": [
    "modelo_combinado =  keras.models.Sequential()\n",
    "modelo_combinado.add(keras.layers.Conv2D(32, (5, 5), activation='relu', kernel_initializer='he_uniform', padding='valid', input_shape=(32, 32, 1)))\n",
    "modelo_combinado.add(keras.layers.MaxPooling2D((2, 2)))\n",
    "modelo_combinado.add(keras.layers.Conv2D(64, (5, 5), activation='relu', kernel_initializer='he_uniform', padding='valid'))\n",
    "modelo_combinado.add(keras.layers.MaxPooling2D((2, 2)))\n",
    "modelo_combinado.add(keras.layers.Flatten())\n",
    "modelo_combinado.add(keras.layers.Dense(800, activation='relu', kernel_initializer='he_uniform'))\n",
    "modelo_combinado.add(keras.layers.Dense(120, activation='relu', kernel_initializer='he_uniform'))\n",
    "modelo_combinado.add(keras.layers.Dense(84, activation='relu', kernel_initializer='he_uniform'))\n",
    "modelo_combinado.add(keras.layers.Dense(36, activation='softmax'))\n",
    "\n",
    "modelo_combinado.summary()"
   ]
  },
  {
   "cell_type": "code",
   "execution_count": 7,
   "metadata": {},
   "outputs": [
    {
     "name": "stdout",
     "output_type": "stream",
     "text": [
      "32 -> W\n",
      "33 -> X\n",
      "1 -> 1\n",
      "4 -> 4\n",
      "3 -> 3\n",
      "2 -> 2\n",
      "34 -> Y\n",
      "31 -> V\n",
      "9 -> 9\n",
      "27 -> R\n",
      "16 -> G\n",
      "20 -> K\n",
      "18 -> I\n",
      "25 -> P\n",
      "17 -> H\n",
      "26 -> Q\n",
      "19 -> J\n",
      "28 -> S\n",
      "15 -> F\n",
      "10 -> A\n",
      "7 -> 7\n",
      "29 -> T\n",
      "5 -> 5\n",
      "0 -> 0\n",
      "6 -> 6\n",
      "30 -> U\n",
      "35 -> Z\n",
      "8 -> 8\n",
      "13 -> D\n",
      "12 -> C\n",
      "24 -> O\n",
      "21 -> L\n",
      "22 -> M\n",
      "23 -> N\n",
      "11 -> B\n",
      "14 -> E\n"
     ]
    }
   ],
   "source": [
    "dataset = \"dataset/\"\n",
    "\n",
    "imagenesTrain = []\n",
    "imagenesTest = []\n",
    "\n",
    "clases = [\"0\", \"1\", \"2\", \"3\", \"4\", \"5\", \"6\", \"7\", \"8\", \"9\", \"A\", \"B\", \"C\", \"D\", \"E\", \"F\", \"G\", \"H\", \"I\", \"J\", \"K\", \"L\", \"M\", \"N\", \"O\", \"P\", \"Q\", \"R\", \"S\", \"T\", \"U\", \"V\", \"W\", \"X\", \"Y\", \"Z\"]\n",
    "\n",
    "samples = os.listdir(dataset)\n",
    "\n",
    "#Dividimos entre el 80% y el 20%\n",
    "totalImagenes = 0\n",
    "nTrain = 0\n",
    "nTest = 0\n",
    "\n",
    "for s in range(len(samples)):\n",
    "    carpetas = os.listdir(dataset+samples[s]+\"/\")\n",
    "    claseStr = samples[s][7:]\n",
    "    clase = clases[int(claseStr)-1]\n",
    "    print(int(claseStr)-1,\"->\",clase)\n",
    "    for d in range(len(carpetas)):\n",
    "        if carpetas[d] == 'gen' or carpetas[d] == 'bmp':\n",
    "            archivos = os.listdir(dataset+samples[s]+\"/\"+carpetas[d]+\"/\")\n",
    "            nArchivosLocal = len(archivos)\n",
    "            nTrainLocal = round(nArchivosLocal * 0.8)\n",
    "            nTestLocal = nArchivosLocal - nTrainLocal\n",
    "            totalImagenes += nArchivosLocal\n",
    "            nTrain += nTrainLocal\n",
    "            nTest += nTestLocal\n",
    "            for f in range(len(archivos)):\n",
    "                imagen = cv.imread(dataset+samples[s]+\"/\"+carpetas[d]+\"/\"+archivos[f])\n",
    "                imagen = cv.cvtColor(imagen, cv.COLOR_BGR2GRAY)\n",
    "                imagen = cv.resize(imagen, (32, 32))\n",
    "                if f < nTrainLocal:\n",
    "                    imagenesTrain.append([imagen,int(claseStr)-1,archivos[f]])\n",
    "                else:\n",
    "                    imagenesTest.append([imagen,int(claseStr)-1,archivos[f]])"
   ]
  },
  {
   "cell_type": "code",
   "execution_count": 8,
   "metadata": {},
   "outputs": [
    {
     "name": "stdout",
     "output_type": "stream",
     "text": [
      "Total de imagenes para entrenar: 19377\n",
      "Total de imagenes para comprobar: 4846\n",
      "--------------------------------------------\n",
      "nTrain: 19377\n",
      "nTest: 4846\n",
      "nImgs 24223\n"
     ]
    }
   ],
   "source": [
    "print(\"Total de imagenes para entrenar:\",len(imagenesTrain))\n",
    "print(\"Total de imagenes para comprobar:\",len(imagenesTest))\n",
    "print(\"--------------------------------------------\")\n",
    "print(\"nTrain:\",nTrain)\n",
    "print(\"nTest:\",nTest)\n",
    "print(\"nImgs\",totalImagenes)"
   ]
  },
  {
   "cell_type": "code",
   "execution_count": 9,
   "metadata": {},
   "outputs": [
    {
     "name": "stdout",
     "output_type": "stream",
     "text": [
      "Antes de desordernar las imagenes (19377, 3) - (4846, 3)\n",
      "Despues de desordernar las imagenes (19377, 3) - (4846, 3)\n"
     ]
    }
   ],
   "source": [
    "print(\"Antes de desordernar las imagenes\",np.shape(imagenesTrain),\"-\",np.shape(imagenesTest))\n",
    "random.shuffle(imagenesTrain)\n",
    "random.shuffle(imagenesTest)\n",
    "print(\"Despues de desordernar las imagenes\",np.shape(imagenesTrain),\"-\",np.shape(imagenesTest))"
   ]
  },
  {
   "cell_type": "code",
   "execution_count": 10,
   "metadata": {},
   "outputs": [
    {
     "name": "stdout",
     "output_type": "stream",
     "text": [
      "Comprobemos que quedo el arreglo desordenado\n",
      "Clase\tImagen\tTRAIN\n",
      "14 \t bmp15-0119.png\n",
      "10 \t A_0_rot3hsvall.png\n",
      "12 \t C_5_rot0lab.png\n",
      "18 \t I_16_rot3luvall.png\n",
      "5 \t 5_10_rot2luv.png\n",
      "2 \t 2_5_rot5hsv.png\n",
      "23 \t bmp24-0271.png\n",
      "30 \t U_41_thresh1_7.png\n",
      "31 \t V_42_rot5hsv.png\n",
      "25 \t P_30_con_6.png\n",
      "18 \t I_16_rot0xyzall.png\n",
      "4 \t 4_8335.png\n",
      "10 \t A_3470.png\n",
      "0 \t 0_0_rot2hsvall.png\n",
      "12 \t C_5_canny1.png\n",
      "7 \t 7_3390.png\n",
      "2 \t 2_3176.png\n",
      "26 \t Q_8170.png\n",
      "20 \t K_20_rot0luvall.png\n",
      "25 \t bmp26-0150.png\n",
      "35 \t Z_50_rot6hsv.png\n",
      "21 \t L_22_thresh1_2.png\n",
      "16 \t bmp17-0053.png\n",
      "7 \t 7_1204.png\n",
      "3 \t bmp04-0040.png\n",
      "33 \t X_2866.png\n",
      "33 \t X_47_rot7hlsall.png\n",
      "26 \t Q_32_con_6.png\n",
      "8 \t 8_2233.png\n",
      "14 \t E_9_rot5laball.png\n",
      "33 \t X_47_rot6hsvall.png\n",
      "29 \t T_1775.png\n",
      "15 \t F_10_rot7xyz.png\n",
      "10 \t A_5982.png\n",
      "15 \t F_4630.png\n",
      "14 \t bmp15-0124.png\n",
      "29 \t bmp30-0051.png\n",
      "27 \t bmp28-0039.png\n",
      "14 \t E_9611.png\n",
      "14 \t E_8_rot4bgr.png\n",
      "26 \t bmp27-0019.png\n",
      "30 \t bmp31-0062.png\n",
      "10 \t bmp11-0117.png\n",
      "9 \t 9_900.png\n",
      "0 \t 0_0_rot7laball.png\n",
      "14 \t E_8_rot0ycrcb.png\n",
      "23 \t N_8726.png\n",
      "7 \t bmp08-0011.png\n",
      "16 \t G_13_rot3hlsall.png\n",
      "14 \t bmp15-0083.png\n"
     ]
    }
   ],
   "source": [
    "print(\"Comprobemos que quedo el arreglo desordenado\")\n",
    "print(\"Clase\\tImagen\\tTRAIN\")\n",
    "for i in range(50):\n",
    "    print(imagenesTrain[i][1],\"\\t\",imagenesTrain[i][2])"
   ]
  },
  {
   "cell_type": "code",
   "execution_count": 11,
   "metadata": {},
   "outputs": [
    {
     "name": "stdout",
     "output_type": "stream",
     "text": [
      "Clase\tImagen\tTEST\n",
      "27 \t bmp28-0292.png\n",
      "8 \t 8_17_canny6.png\n",
      "27 \t R_4270.png\n",
      "16 \t bmp17-0109.png\n",
      "24 \t O_29_canny7.png\n",
      "24 \t O_29_rot1lab.png\n",
      "28 \t bmp29-0135.png\n",
      "23 \t N_27_rot6hls.png\n",
      "7 \t 7_14_rot7bgr.png\n",
      "21 \t L_22_gauss17_2.png\n",
      "2 \t 2_4_rot6ycrcb.png\n",
      "7 \t 7_128.png\n",
      "14 \t E_8_rot0luvall.png\n",
      "25 \t P_5538.png\n",
      "24 \t O_29_rot1hls.png\n",
      "7 \t 7_14_rot2luvall.png\n",
      "18 \t I_9014.png\n",
      "11 \t B_2_rot7hlsall.png\n",
      "7 \t 7_2751.png\n",
      "23 \t N_26_rot5luv.png\n",
      "8 \t 8_16_thresh2_0.png\n",
      "21 \t L_23_rot7laball.png\n",
      "2 \t 2_5_rot4hsv.png\n",
      "11 \t B_3_rot7hls.png\n",
      "10 \t A_1_rot4rgball.png\n",
      "19 \t J_18_thresh1_7.png\n",
      "14 \t bmp15-0200.png\n",
      "9 \t 9_18_rot1luvall.png\n",
      "21 \t L_23_rot7luvall.png\n",
      "7 \t 7_6126.png\n",
      "25 \t P_2332.png\n",
      "19 \t J_19_rot3gray.png\n",
      "24 \t O_28_rot2luv.png\n",
      "18 \t bmp19-0088.png\n",
      "16 \t G_12_canny4.png\n",
      "22 \t M_24_rot1grayall.png\n",
      "17 \t bmp18-0098.png\n",
      "8 \t 8_1322.png\n",
      "25 \t P_30_rot6laball.png\n",
      "20 \t bmp21-0016.png\n",
      "8 \t 8_1278.png\n",
      "27 \t R_2364.png\n",
      "18 \t I_16_rot2hls.png\n",
      "27 \t R_34_thresh1_1.png\n",
      "11 \t B_3_rot7luv.png\n",
      "13 \t bmp14-0164.png\n",
      "28 \t bmp29-0294.png\n",
      "17 \t H_14_rot7luv.png\n",
      "15 \t F_7421.png\n",
      "27 \t bmp28-0082.png\n"
     ]
    }
   ],
   "source": [
    "print(\"Clase\\tImagen\\tTEST\")\n",
    "for i in range(50):\n",
    "    print(imagenesTest[i][1],\"\\t\",imagenesTest[i][2])"
   ]
  },
  {
   "cell_type": "code",
   "execution_count": 12,
   "metadata": {},
   "outputs": [
    {
     "name": "stdout",
     "output_type": "stream",
     "text": [
      "(19377, 32, 32, 1) (19377,) (4846, 32, 32, 1) (4846,)\n",
      "[14 10 12 18  5  2 23 30 31 25 18  4 10  0 12  7  2 26 20 25 35 21 16  7\n",
      "  3 33 33 26  8 14 33 29 15 10 15 14 29 27 14 14 26 30 10  9  0 14 23  7\n",
      " 16 14]\n",
      "[27  8 27 16 24 24 28 23  7 21  2  7 14 25 24  7 18 11  7 23  8 21  2 11\n",
      " 10 19 14  9 21  7 25 19 24 18 16 22 17  8 25 20  8 27 18 27 11 13 28 17\n",
      " 15 27]\n"
     ]
    }
   ],
   "source": [
    "xTrain = []\n",
    "yTrain = []\n",
    "xTest = []\n",
    "yTest = []\n",
    "\n",
    "#Tomo las de entrenar\n",
    "for i in range(len(imagenesTrain)):\n",
    "    xTrain.append(imagenesTrain[i][0])\n",
    "    yTrain.append(imagenesTrain[i][1])\n",
    "\n",
    "#Tomo las de comprobar\n",
    "for i in range(len(imagenesTest)):\n",
    "    xTest.append(imagenesTest[i][0])\n",
    "    yTest.append(imagenesTest[i][1])\n",
    "    \n",
    "xTrain = np.array(xTrain)\n",
    "yTrain = np.array(yTrain)\n",
    "xTest = np.array(xTest)\n",
    "yTest = np.array(yTest)\n",
    "\n",
    "xTrain = xTrain.reshape([-1, 32, 32, 1])\n",
    "xTest = xTest.reshape([-1, 32, 32, 1])\n",
    "xTrain = xTrain.astype('float32')\n",
    "xTest = xTest.astype('float32')\n",
    "\n",
    "xTrain /= 255\n",
    "xTest /= 255\n",
    "\n",
    "print(xTrain.shape, yTrain.shape, xTest.shape, yTest.shape)\n",
    "\n",
    "print(yTrain[0:50])\n",
    "\n",
    "print(yTest[0:50])"
   ]
  },
  {
   "cell_type": "code",
   "execution_count": 13,
   "metadata": {},
   "outputs": [
    {
     "name": "stdout",
     "output_type": "stream",
     "text": [
      "(32, 32, 1)\n"
     ]
    }
   ],
   "source": [
    "print(np.shape(xTrain[0]))"
   ]
  },
  {
   "cell_type": "code",
   "execution_count": 10,
   "metadata": {},
   "outputs": [
    {
     "name": "stdout",
     "output_type": "stream",
     "text": [
      "Train on 19377 samples, validate on 4846 samples\n",
      "Epoch 1/50\n",
      "19377/19377 [==============================] - 33s 2ms/sample - loss: 2.9803 - acc: 0.2442 - val_loss: 2.1838 - val_acc: 0.4757\n",
      "Epoch 2/50\n",
      "19377/19377 [==============================] - 35s 2ms/sample - loss: 1.8392 - acc: 0.5548 - val_loss: 1.4910 - val_acc: 0.6457\n",
      "Epoch 3/50\n",
      "19377/19377 [==============================] - 37s 2ms/sample - loss: 1.2799 - acc: 0.6900 - val_loss: 1.1329 - val_acc: 0.7109\n",
      "Epoch 4/50\n",
      "19377/19377 [==============================] - 32s 2ms/sample - loss: 0.9940 - acc: 0.7611 - val_loss: 0.9473 - val_acc: 0.7641\n",
      "Epoch 5/50\n",
      "19377/19377 [==============================] - 47s 2ms/sample - loss: 0.8240 - acc: 0.8007 - val_loss: 0.8340 - val_acc: 0.7924\n",
      "Epoch 6/50\n",
      "19377/19377 [==============================] - 41s 2ms/sample - loss: 0.7068 - acc: 0.8297 - val_loss: 0.7177 - val_acc: 0.8341\n",
      "Epoch 7/50\n",
      "19377/19377 [==============================] - 45s 2ms/sample - loss: 0.6208 - acc: 0.8510 - val_loss: 0.6442 - val_acc: 0.8463\n",
      "Epoch 8/50\n",
      "19377/19377 [==============================] - 46s 2ms/sample - loss: 0.5585 - acc: 0.8644 - val_loss: 0.6357 - val_acc: 0.8549\n",
      "Epoch 9/50\n",
      "19377/19377 [==============================] - 44s 2ms/sample - loss: 0.4985 - acc: 0.8797 - val_loss: 0.5724 - val_acc: 0.8636\n",
      "Epoch 10/50\n",
      "19377/19377 [==============================] - 53s 3ms/sample - loss: 0.4526 - acc: 0.8899 - val_loss: 0.5760 - val_acc: 0.8527\n",
      "Epoch 11/50\n",
      "19377/19377 [==============================] - 67s 3ms/sample - loss: 0.4224 - acc: 0.8976 - val_loss: 0.5442 - val_acc: 0.8737\n",
      "Epoch 12/50\n",
      "19377/19377 [==============================] - 46s 2ms/sample - loss: 0.3865 - acc: 0.9064 - val_loss: 0.5288 - val_acc: 0.8758\n",
      "Epoch 13/50\n",
      "19377/19377 [==============================] - 45s 2ms/sample - loss: 0.3533 - acc: 0.9119 - val_loss: 0.5201 - val_acc: 0.8756\n",
      "Epoch 14/50\n",
      "19377/19377 [==============================] - 46s 2ms/sample - loss: 0.3218 - acc: 0.9217 - val_loss: 0.5005 - val_acc: 0.8828\n",
      "Epoch 15/50\n",
      "19377/19377 [==============================] - 45s 2ms/sample - loss: 0.2996 - acc: 0.9295 - val_loss: 0.4936 - val_acc: 0.8846\n",
      "Epoch 16/50\n",
      "19377/19377 [==============================] - 45s 2ms/sample - loss: 0.2830 - acc: 0.9313 - val_loss: 0.5042 - val_acc: 0.8900\n",
      "Epoch 17/50\n",
      "19377/19377 [==============================] - 42s 2ms/sample - loss: 0.2675 - acc: 0.9355 - val_loss: 0.4813 - val_acc: 0.8888\n",
      "Epoch 18/50\n",
      "19377/19377 [==============================] - 43s 2ms/sample - loss: 0.2439 - acc: 0.9421 - val_loss: 0.5025 - val_acc: 0.8906\n",
      "Epoch 19/50\n",
      "19377/19377 [==============================] - 36s 2ms/sample - loss: 0.2330 - acc: 0.9463 - val_loss: 0.4450 - val_acc: 0.9055\n",
      "Epoch 20/50\n",
      "19377/19377 [==============================] - 34s 2ms/sample - loss: 0.2198 - acc: 0.9489 - val_loss: 0.4584 - val_acc: 0.8948\n",
      "Epoch 21/50\n",
      "19377/19377 [==============================] - 34s 2ms/sample - loss: 0.1992 - acc: 0.9548 - val_loss: 0.4529 - val_acc: 0.8970\n",
      "Epoch 22/50\n",
      "19377/19377 [==============================] - 34s 2ms/sample - loss: 0.1898 - acc: 0.9572 - val_loss: 0.4364 - val_acc: 0.9082\n",
      "Epoch 23/50\n",
      "19377/19377 [==============================] - 34s 2ms/sample - loss: 0.1761 - acc: 0.9601 - val_loss: 0.4276 - val_acc: 0.9106\n",
      "Epoch 24/50\n",
      "19377/19377 [==============================] - 33s 2ms/sample - loss: 0.1680 - acc: 0.9619 - val_loss: 0.4341 - val_acc: 0.8995\n",
      "Epoch 25/50\n",
      "19377/19377 [==============================] - 33s 2ms/sample - loss: 0.1516 - acc: 0.9656 - val_loss: 0.4289 - val_acc: 0.9119\n",
      "Epoch 26/50\n",
      "19377/19377 [==============================] - 33s 2ms/sample - loss: 0.1429 - acc: 0.9693 - val_loss: 0.4484 - val_acc: 0.9051\n",
      "Epoch 27/50\n",
      "19377/19377 [==============================] - 34s 2ms/sample - loss: 0.1368 - acc: 0.9704 - val_loss: 0.4269 - val_acc: 0.9059\n",
      "Epoch 28/50\n",
      "19377/19377 [==============================] - 33s 2ms/sample - loss: 0.1314 - acc: 0.9728 - val_loss: 0.4135 - val_acc: 0.9168\n",
      "Epoch 29/50\n",
      "19377/19377 [==============================] - 35s 2ms/sample - loss: 0.1233 - acc: 0.9748 - val_loss: 0.4014 - val_acc: 0.9241\n",
      "Epoch 30/50\n",
      "19377/19377 [==============================] - 33s 2ms/sample - loss: 0.1224 - acc: 0.9751 - val_loss: 0.4099 - val_acc: 0.9218\n",
      "Epoch 31/50\n",
      "19377/19377 [==============================] - 33s 2ms/sample - loss: 0.1187 - acc: 0.9757 - val_loss: 0.4498 - val_acc: 0.9131\n",
      "Epoch 32/50\n",
      "19377/19377 [==============================] - 32s 2ms/sample - loss: 0.1100 - acc: 0.9780 - val_loss: 0.4182 - val_acc: 0.9236\n",
      "Epoch 33/50\n",
      "19377/19377 [==============================] - 32s 2ms/sample - loss: 0.1041 - acc: 0.9787 - val_loss: 0.4477 - val_acc: 0.9154\n",
      "Epoch 34/50\n",
      "19377/19377 [==============================] - 32s 2ms/sample - loss: 0.1001 - acc: 0.9805 - val_loss: 0.4169 - val_acc: 0.9247\n",
      "Epoch 35/50\n",
      "19377/19377 [==============================] - 32s 2ms/sample - loss: 0.0957 - acc: 0.9806 - val_loss: 0.4207 - val_acc: 0.9247\n",
      "Epoch 36/50\n",
      "19377/19377 [==============================] - 33s 2ms/sample - loss: 0.0913 - acc: 0.9820 - val_loss: 0.4211 - val_acc: 0.9243\n",
      "Epoch 37/50\n",
      "19377/19377 [==============================] - 32s 2ms/sample - loss: 0.0845 - acc: 0.9831 - val_loss: 0.4340 - val_acc: 0.9230\n",
      "Epoch 38/50\n",
      "19377/19377 [==============================] - 32s 2ms/sample - loss: 0.0902 - acc: 0.9828 - val_loss: 0.4199 - val_acc: 0.9307\n",
      "Epoch 39/50\n",
      "19377/19377 [==============================] - 33s 2ms/sample - loss: 0.0782 - acc: 0.9858 - val_loss: 0.4218 - val_acc: 0.9226\n",
      "Epoch 40/50\n",
      "19377/19377 [==============================] - 33s 2ms/sample - loss: 0.0733 - acc: 0.9863 - val_loss: 0.4203 - val_acc: 0.9284\n",
      "Epoch 41/50\n",
      "19377/19377 [==============================] - 39s 2ms/sample - loss: 0.0786 - acc: 0.9846 - val_loss: 0.4449 - val_acc: 0.9187\n",
      "Epoch 42/50\n",
      "19377/19377 [==============================] - 39s 2ms/sample - loss: 0.0769 - acc: 0.9840 - val_loss: 0.4364 - val_acc: 0.9173\n",
      "Epoch 43/50\n",
      "19377/19377 [==============================] - 37s 2ms/sample - loss: 0.0732 - acc: 0.9862 - val_loss: 0.4172 - val_acc: 0.9298\n",
      "Epoch 44/50\n",
      "19377/19377 [==============================] - 36s 2ms/sample - loss: 0.0705 - acc: 0.9871 - val_loss: 0.4114 - val_acc: 0.9259\n",
      "Epoch 45/50\n",
      "19377/19377 [==============================] - 36s 2ms/sample - loss: 0.0721 - acc: 0.9857 - val_loss: 0.4350 - val_acc: 0.9298\n",
      "Epoch 46/50\n",
      "19377/19377 [==============================] - 34s 2ms/sample - loss: 0.0635 - acc: 0.9882 - val_loss: 0.4433 - val_acc: 0.9251\n",
      "Epoch 47/50\n",
      "19377/19377 [==============================] - 34s 2ms/sample - loss: 0.0678 - acc: 0.9878 - val_loss: 0.4342 - val_acc: 0.9272\n",
      "Epoch 48/50\n",
      "19377/19377 [==============================] - 34s 2ms/sample - loss: 0.0621 - acc: 0.9878 - val_loss: 0.4210 - val_acc: 0.9298\n",
      "Epoch 49/50\n",
      "19377/19377 [==============================] - 35s 2ms/sample - loss: 0.0584 - acc: 0.9888 - val_loss: 0.4238 - val_acc: 0.9323\n",
      "Epoch 50/50\n",
      "19377/19377 [==============================] - 34s 2ms/sample - loss: 0.0588 - acc: 0.9889 - val_loss: 0.4364 - val_acc: 0.9311\n"
     ]
    }
   ],
   "source": [
    "opt = keras.optimizers.SGD(lr=0.001, momentum=0.9)\n",
    "modelo_combinado.compile(optimizer=opt, loss='sparse_categorical_crossentropy',metrics=['accuracy'])\n",
    "\n",
    "history = modelo_combinado.fit(xTrain, yTrain, epochs=50, batch_size=64, validation_data=(xTest, yTest))"
   ]
  },
  {
   "cell_type": "code",
   "execution_count": 11,
   "metadata": {},
   "outputs": [
    {
     "data": {
      "text/plain": [
       "<matplotlib.legend.Legend at 0x1032d1908>"
      ]
     },
     "execution_count": 11,
     "metadata": {},
     "output_type": "execute_result"
    },
    {
     "data": {
      "image/png": "[encoded data removed]",
      "text/plain": [
       "<matplotlib.figure.Figure at 0x13ff546a0>"
      ]
     },
     "metadata": {
      "needs_background": "light"
     },
     "output_type": "display_data"
    }
   ],
   "source": [
    "plt.plot(history.history['acc'], label='Train Accuracy')\n",
    "plt.plot(history.history['val_acc'], label='Validation Accuracy')\n",
    "plt.xlabel('Epochs')\n",
    "plt.ylabel('Accuracy')\n",
    "plt.legend()"
   ]
  },
  {
   "cell_type": "code",
   "execution_count": 12,
   "metadata": {},
   "outputs": [
    {
     "name": "stdout",
     "output_type": "stream",
     "text": [
      "Modelo guardado\n"
     ]
    }
   ],
   "source": [
    "model_json = modelo_combinado.to_json()\n",
    "with open(\"model.json\", \"w\") as json_file:\n",
    "    json_file.write(model_json)\n",
    "# serialize weights to HDF5\n",
    "modelo_combinado.save_weights(\"modeloFinal.h5\")\n",
    "print(\"Modelo guardado\")"
   ]
  },
  {
   "cell_type": "code",
   "execution_count": 13,
   "metadata": {},
   "outputs": [
    {
     "name": "stderr",
     "output_type": "stream",
     "text": [
      "W0821 01:30:33.051874 140734889190848 deprecation.py:506] From /Library/Frameworks/Python.framework/Versions/3.6/lib/python3.6/site-packages/tensorflow/python/ops/init_ops.py:97: calling Zeros.__init__ (from tensorflow.python.ops.init_ops) with dtype is deprecated and will be removed in a future version.\n",
      "Instructions for updating:\n",
      "Call initializer instance with the dtype argument instead of passing it to the constructor\n",
      "W0821 01:30:33.675268 140734889190848 deprecation.py:506] From /Library/Frameworks/Python.framework/Versions/3.6/lib/python3.6/site-packages/tensorflow/python/ops/init_ops.py:97: calling GlorotUniform.__init__ (from tensorflow.python.ops.init_ops) with dtype is deprecated and will be removed in a future version.\n",
      "Instructions for updating:\n",
      "Call initializer instance with the dtype argument instead of passing it to the constructor\n"
     ]
    },
    {
     "name": "stdout",
     "output_type": "stream",
     "text": [
      "Modelo cargado desde el computador\n",
      "acc: 93.11%\n"
     ]
    }
   ],
   "source": [
    "json_file = open('model.json', 'r')\n",
    "loaded_model_json = json_file.read()\n",
    "json_file.close()\n",
    "loaded_model = keras.models.model_from_json(loaded_model_json)\n",
    "#Abriendo pesos del modelo creado\n",
    "loaded_model.load_weights(\"modeloFinal.h5\")\n",
    "print(\"Modelo cargado desde el computador\")\n",
    " \n",
    "#Evaluar el modelo cargado\n",
    "opt = keras.optimizers.SGD(lr=0.001, momentum=0.9)\n",
    "loaded_model.compile(optimizer=opt, loss='sparse_categorical_crossentropy',metrics=['accuracy'])\n",
    "score = loaded_model.evaluate(xTest, yTest, verbose=0)\n",
    "print(\"%s: %.2f%%\" % (loaded_model.metrics_names[1], score[1]*100))"
   ]
  },
  {
   "cell_type": "code",
   "execution_count": 14,
   "metadata": {},
   "outputs": [
    {
     "name": "stderr",
     "output_type": "stream",
     "text": [
      "W0821 01:30:39.587463 140734889190848 lazy_loader.py:50] \n",
      "The TensorFlow contrib module will not be included in TensorFlow 2.0.\n",
      "For more information, please see:\n",
      "  * https://github.com/tensorflow/community/blob/master/rfcs/20180907-contrib-sunset.md\n",
      "  * https://github.com/tensorflow/addons\n",
      "  * https://github.com/tensorflow/io (for I/O related ops)\n",
      "If you depend on functionality not listed there, please file an issue.\n",
      "\n"
     ]
    },
    {
     "name": "stdout",
     "output_type": "stream",
     "text": [
      "1/1 [==============================] - 0s 43ms/sample\n",
      "Caracter: ' 6 '\n"
     ]
    },
    {
     "data": {
      "image/png": "[encoded data removed]",
      "text/plain": [
       "<matplotlib.figure.Figure at 0x1414747f0>"
      ]
     },
     "metadata": {
      "needs_background": "light"
     },
     "output_type": "display_data"
    }
   ],
   "source": [
    "img = cv.cvtColor(cv.imread(\"pruebas/Letras/6.png\"),cv.COLOR_BGR2RGB)\n",
    "img = cv.resize(img, (32, 32))\n",
    "imgG = cv.cvtColor(img, cv.COLOR_BGR2GRAY)\n",
    "imgG = tf.contrib.keras.preprocessing.image.img_to_array(imgG)\n",
    "imgG = np.expand_dims(imgG, axis=0);\n",
    "plt.imshow(img,cmap='gray');\n",
    "\n",
    "features_res_classes = loaded_model.predict_classes(imgG, verbose=1)\n",
    "print(\"Caracter: '\",clases[features_res_classes[0]],\"'\")"
   ]
  },
  {
   "cell_type": "code",
   "execution_count": 16,
   "metadata": {},
   "outputs": [
    {
     "data": {
      "text/plain": [
       "<matplotlib.legend.Legend at 0x14f6237f0>"
      ]
     },
     "execution_count": 16,
     "metadata": {},
     "output_type": "execute_result"
    },
    {
     "data": {
      "image/png": "[encoded data removed]",
      "text/plain": [
       "<matplotlib.figure.Figure at 0x14f75ed30>"
      ]
     },
     "metadata": {
      "needs_background": "light"
     },
     "output_type": "display_data"
    }
   ],
   "source": [
    "plt.plot(history.history['loss'], label='Train Loss')\n",
    "plt.plot(history.history['val_loss'], label='Validation Loss')\n",
    "plt.xlabel('Epochs')\n",
    "plt.ylabel('Accuracy')\n",
    "plt.legend()"
   ]
  },
  {
   "cell_type": "code",
   "execution_count": 17,
   "metadata": {},
   "outputs": [
    {
     "data": {
      "text/plain": [
       "<matplotlib.legend.Legend at 0x14fafd2b0>"
      ]
     },
     "execution_count": 17,
     "metadata": {},
     "output_type": "execute_result"
    },
    {
     "data": {
      "image/png": "[encoded data removed]",
      "text/plain": [
       "<matplotlib.figure.Figure at 0x1491b8630>"
      ]
     },
     "metadata": {
      "needs_background": "light"
     },
     "output_type": "display_data"
    }
   ],
   "source": [
    "plt.plot(history.history['acc'], label='Train Accuracy')\n",
    "plt.plot(history.history['val_acc'], label='Validation Accuracy')\n",
    "plt.plot(history.history['loss'], label='Train Loss')\n",
    "plt.plot(history.history['val_loss'], label='Validation Loss')\n",
    "plt.xlabel('Epochs')\n",
    "plt.ylabel('Accuracy')\n",
    "plt.legend()"
   ]
  },
  {
   "cell_type": "code",
   "execution_count": null,
   "metadata": {},
   "outputs": [],
   "source": []
  },
  {
   "cell_type": "code",
   "execution_count": 18,
   "metadata": {},
   "outputs": [
    {
     "name": "stdout",
     "output_type": "stream",
     "text": [
      "Model: \"sequential_1\"\n",
      "_________________________________________________________________\n",
      "Layer (type)                 Output Shape              Param #   \n",
      "=================================================================\n",
      "conv2d_2 (Conv2D)            (None, 28, 28, 32)        832       \n",
      "_________________________________________________________________\n",
      "max_pooling2d_2 (MaxPooling2 (None, 14, 14, 32)        0         \n",
      "_________________________________________________________________\n",
      "conv2d_3 (Conv2D)            (None, 10, 10, 64)        51264     \n",
      "_________________________________________________________________\n",
      "max_pooling2d_3 (MaxPooling2 (None, 5, 5, 64)          0         \n",
      "_________________________________________________________________\n",
      "flatten_1 (Flatten)          (None, 1600)              0         \n",
      "_________________________________________________________________\n",
      "dropout (Dropout)            (None, 1600)              0         \n",
      "_________________________________________________________________\n",
      "dense_4 (Dense)              (None, 800)               1280800   \n",
      "_________________________________________________________________\n",
      "dense_5 (Dense)              (None, 120)               96120     \n",
      "_________________________________________________________________\n",
      "dense_6 (Dense)              (None, 84)                10164     \n",
      "_________________________________________________________________\n",
      "dropout_1 (Dropout)          (None, 84)                0         \n",
      "_________________________________________________________________\n",
      "dense_7 (Dense)              (None, 36)                3060      \n",
      "=================================================================\n",
      "Total params: 1,442,240\n",
      "Trainable params: 1,442,240\n",
      "Non-trainable params: 0\n",
      "_________________________________________________________________\n"
     ]
    }
   ],
   "source": [
    "modelo_2 =  keras.models.Sequential()\n",
    "modelo_2.add(keras.layers.Conv2D(32, (5, 5), activation='relu', kernel_initializer='he_uniform', padding='valid', input_shape=(32, 32, 1)))\n",
    "modelo_2.add(keras.layers.MaxPooling2D((2, 2)))\n",
    "modelo_2.add(keras.layers.Conv2D(64, (5, 5), activation='relu', kernel_initializer='he_uniform', padding='valid'))\n",
    "modelo_2.add(keras.layers.MaxPooling2D((2, 2)))\n",
    "modelo_2.add(keras.layers.Flatten())\n",
    "modelo_2.add(keras.layers.Dropout(0.2))\n",
    "modelo_2.add(keras.layers.Dense(800, activation='relu', kernel_initializer='he_uniform'))\n",
    "modelo_2.add(keras.layers.Dense(120, activation='relu', kernel_initializer='he_uniform'))\n",
    "modelo_2.add(keras.layers.Dense(84, activation='relu', kernel_initializer='he_uniform'))\n",
    "modelo_2.add(keras.layers.Dropout(0.2))\n",
    "modelo_2.add(keras.layers.Dense(36, activation='softmax'))\n",
    "\n",
    "modelo_2.summary()"
   ]
  },
  {
   "cell_type": "code",
   "execution_count": 19,
   "metadata": {},
   "outputs": [
    {
     "name": "stdout",
     "output_type": "stream",
     "text": [
      "Train on 19377 samples, validate on 4846 samples\n",
      "Epoch 1/50\n",
      "19377/19377 [==============================] - 36s 2ms/sample - loss: 3.3120 - acc: 0.1287 - val_loss: 2.6014 - val_acc: 0.3933\n",
      "Epoch 2/50\n",
      "19377/19377 [==============================] - 35s 2ms/sample - loss: 2.4458 - acc: 0.3757 - val_loss: 1.7939 - val_acc: 0.6121\n",
      "Epoch 3/50\n",
      "19377/19377 [==============================] - 35s 2ms/sample - loss: 1.8880 - acc: 0.5211 - val_loss: 1.3902 - val_acc: 0.6766\n",
      "Epoch 4/50\n",
      "19377/19377 [==============================] - 35s 2ms/sample - loss: 1.5447 - acc: 0.6032 - val_loss: 1.1488 - val_acc: 0.7332\n",
      "Epoch 5/50\n",
      "19377/19377 [==============================] - 35s 2ms/sample - loss: 1.3378 - acc: 0.6556 - val_loss: 1.0001 - val_acc: 0.7676\n",
      "Epoch 6/50\n",
      "19377/19377 [==============================] - 35s 2ms/sample - loss: 1.1736 - acc: 0.6916 - val_loss: 0.8922 - val_acc: 0.7959\n",
      "Epoch 7/50\n",
      "19377/19377 [==============================] - 35s 2ms/sample - loss: 1.0703 - acc: 0.7214 - val_loss: 0.8279 - val_acc: 0.7988\n",
      "Epoch 8/50\n",
      "19377/19377 [==============================] - 31s 2ms/sample - loss: 0.9803 - acc: 0.7411 - val_loss: 0.7470 - val_acc: 0.8205\n",
      "Epoch 9/50\n",
      "19377/19377 [==============================] - 30s 2ms/sample - loss: 0.9034 - acc: 0.7591 - val_loss: 0.7024 - val_acc: 0.8215\n",
      "Epoch 10/50\n",
      "19377/19377 [==============================] - 30s 2ms/sample - loss: 0.8300 - acc: 0.7792 - val_loss: 0.6492 - val_acc: 0.8411\n",
      "Epoch 11/50\n",
      "19377/19377 [==============================] - 30s 2ms/sample - loss: 0.7856 - acc: 0.7876 - val_loss: 0.6237 - val_acc: 0.8362\n",
      "Epoch 12/50\n",
      "19377/19377 [==============================] - 30s 2ms/sample - loss: 0.7421 - acc: 0.7988 - val_loss: 0.6033 - val_acc: 0.8438\n",
      "Epoch 13/50\n",
      "19377/19377 [==============================] - 30s 2ms/sample - loss: 0.7028 - acc: 0.8075 - val_loss: 0.5652 - val_acc: 0.8529\n",
      "Epoch 14/50\n",
      "19377/19377 [==============================] - 30s 2ms/sample - loss: 0.6707 - acc: 0.8171 - val_loss: 0.5526 - val_acc: 0.8576\n",
      "Epoch 15/50\n",
      "19377/19377 [==============================] - 31s 2ms/sample - loss: 0.6375 - acc: 0.8260 - val_loss: 0.5184 - val_acc: 0.8671\n",
      "Epoch 16/50\n",
      "19377/19377 [==============================] - 31s 2ms/sample - loss: 0.6221 - acc: 0.8286 - val_loss: 0.5099 - val_acc: 0.8675\n",
      "Epoch 17/50\n",
      "19377/19377 [==============================] - 31s 2ms/sample - loss: 0.5825 - acc: 0.8386 - val_loss: 0.5090 - val_acc: 0.8665\n",
      "Epoch 18/50\n",
      "19377/19377 [==============================] - 31s 2ms/sample - loss: 0.5663 - acc: 0.8433 - val_loss: 0.4810 - val_acc: 0.8774\n",
      "Epoch 19/50\n",
      "19377/19377 [==============================] - 31s 2ms/sample - loss: 0.5361 - acc: 0.8510 - val_loss: 0.4855 - val_acc: 0.8712\n",
      "Epoch 20/50\n",
      "19377/19377 [==============================] - 31s 2ms/sample - loss: 0.5197 - acc: 0.8556 - val_loss: 0.4495 - val_acc: 0.8867\n",
      "Epoch 21/50\n",
      "19377/19377 [==============================] - 31s 2ms/sample - loss: 0.5039 - acc: 0.8593 - val_loss: 0.4308 - val_acc: 0.8875\n",
      "Epoch 22/50\n",
      "19377/19377 [==============================] - 31s 2ms/sample - loss: 0.4880 - acc: 0.8640 - val_loss: 0.4341 - val_acc: 0.8871\n",
      "Epoch 23/50\n",
      "19377/19377 [==============================] - 31s 2ms/sample - loss: 0.4643 - acc: 0.8668 - val_loss: 0.4241 - val_acc: 0.8913\n",
      "Epoch 24/50\n",
      "19377/19377 [==============================] - 31s 2ms/sample - loss: 0.4476 - acc: 0.8720 - val_loss: 0.4121 - val_acc: 0.8919\n",
      "Epoch 25/50\n",
      "19377/19377 [==============================] - 31s 2ms/sample - loss: 0.4380 - acc: 0.8760 - val_loss: 0.4082 - val_acc: 0.8888\n",
      "Epoch 26/50\n",
      "19377/19377 [==============================] - 31s 2ms/sample - loss: 0.4192 - acc: 0.8821 - val_loss: 0.3815 - val_acc: 0.8991\n",
      "Epoch 27/50\n",
      "19377/19377 [==============================] - 31s 2ms/sample - loss: 0.4148 - acc: 0.8813 - val_loss: 0.3865 - val_acc: 0.8960\n",
      "Epoch 28/50\n",
      "19377/19377 [==============================] - 31s 2ms/sample - loss: 0.3963 - acc: 0.8872 - val_loss: 0.3863 - val_acc: 0.8923\n",
      "Epoch 29/50\n",
      "19377/19377 [==============================] - 31s 2ms/sample - loss: 0.3893 - acc: 0.8866 - val_loss: 0.3820 - val_acc: 0.8983\n",
      "Epoch 30/50\n",
      "19377/19377 [==============================] - 31s 2ms/sample - loss: 0.3755 - acc: 0.8939 - val_loss: 0.3657 - val_acc: 0.9038\n",
      "Epoch 31/50\n",
      "19377/19377 [==============================] - 31s 2ms/sample - loss: 0.3684 - acc: 0.8951 - val_loss: 0.3601 - val_acc: 0.9059\n",
      "Epoch 32/50\n",
      "19377/19377 [==============================] - 31s 2ms/sample - loss: 0.3536 - acc: 0.8969 - val_loss: 0.3568 - val_acc: 0.9045\n",
      "Epoch 33/50\n",
      "19377/19377 [==============================] - 31s 2ms/sample - loss: 0.3476 - acc: 0.8984 - val_loss: 0.3571 - val_acc: 0.9059\n",
      "Epoch 34/50\n",
      "19377/19377 [==============================] - 31s 2ms/sample - loss: 0.3311 - acc: 0.9037 - val_loss: 0.3387 - val_acc: 0.9094\n",
      "Epoch 35/50\n",
      "19377/19377 [==============================] - 31s 2ms/sample - loss: 0.3244 - acc: 0.9048 - val_loss: 0.3487 - val_acc: 0.9084\n",
      "Epoch 36/50\n",
      "19377/19377 [==============================] - 31s 2ms/sample - loss: 0.3148 - acc: 0.9078 - val_loss: 0.3310 - val_acc: 0.9152\n",
      "Epoch 37/50\n",
      "19377/19377 [==============================] - 31s 2ms/sample - loss: 0.3046 - acc: 0.9104 - val_loss: 0.3280 - val_acc: 0.9146\n",
      "Epoch 38/50\n",
      "19377/19377 [==============================] - 31s 2ms/sample - loss: 0.3020 - acc: 0.9094 - val_loss: 0.3256 - val_acc: 0.9162\n",
      "Epoch 39/50\n",
      "19377/19377 [==============================] - 31s 2ms/sample - loss: 0.2907 - acc: 0.9134 - val_loss: 0.3182 - val_acc: 0.9181\n",
      "Epoch 40/50\n",
      "19377/19377 [==============================] - 31s 2ms/sample - loss: 0.2891 - acc: 0.9143 - val_loss: 0.3226 - val_acc: 0.9168\n",
      "Epoch 41/50\n",
      "19377/19377 [==============================] - 31s 2ms/sample - loss: 0.2778 - acc: 0.9178 - val_loss: 0.3145 - val_acc: 0.9175\n",
      "Epoch 42/50\n",
      "19377/19377 [==============================] - 31s 2ms/sample - loss: 0.2679 - acc: 0.9211 - val_loss: 0.3123 - val_acc: 0.9191\n",
      "Epoch 43/50\n",
      "19377/19377 [==============================] - 31s 2ms/sample - loss: 0.2636 - acc: 0.9216 - val_loss: 0.3157 - val_acc: 0.9222\n",
      "Epoch 44/50\n",
      "19377/19377 [==============================] - 31s 2ms/sample - loss: 0.2561 - acc: 0.9251 - val_loss: 0.3077 - val_acc: 0.9245\n",
      "Epoch 45/50\n",
      "19377/19377 [==============================] - 31s 2ms/sample - loss: 0.2525 - acc: 0.9261 - val_loss: 0.3094 - val_acc: 0.9216\n",
      "Epoch 46/50\n",
      "19377/19377 [==============================] - 31s 2ms/sample - loss: 0.2471 - acc: 0.9290 - val_loss: 0.2982 - val_acc: 0.9255\n",
      "Epoch 47/50\n",
      "19377/19377 [==============================] - 31s 2ms/sample - loss: 0.2377 - acc: 0.9292 - val_loss: 0.2956 - val_acc: 0.9274\n",
      "Epoch 48/50\n",
      "19377/19377 [==============================] - 31s 2ms/sample - loss: 0.2358 - acc: 0.9290 - val_loss: 0.2951 - val_acc: 0.9288\n",
      "Epoch 49/50\n",
      "19377/19377 [==============================] - 30s 2ms/sample - loss: 0.2274 - acc: 0.9317 - val_loss: 0.2966 - val_acc: 0.9259\n",
      "Epoch 50/50\n",
      "19377/19377 [==============================] - 32s 2ms/sample - loss: 0.2214 - acc: 0.9335 - val_loss: 0.2923 - val_acc: 0.9307\n"
     ]
    }
   ],
   "source": [
    "opt = keras.optimizers.SGD(lr=0.001, momentum=0.9)\n",
    "modelo_2.compile(optimizer=opt, loss='sparse_categorical_crossentropy',metrics=['accuracy'])\n",
    "\n",
    "history2 = modelo_2.fit(xTrain, yTrain, epochs=50, batch_size=64, validation_data=(xTest, yTest))"
   ]
  },
  {
   "cell_type": "code",
   "execution_count": 20,
   "metadata": {},
   "outputs": [
    {
     "name": "stdout",
     "output_type": "stream",
     "text": [
      "Modelo guardado\n"
     ]
    }
   ],
   "source": [
    "model_json = modelo_combinado.to_json()\n",
    "with open(\"model.json\", \"w\") as json_file:\n",
    "    json_file.write(model_json)\n",
    "# serialize weights to HDF5\n",
    "modelo_combinado.save_weights(\"modeloFinalDrop.h5\")\n",
    "print(\"Modelo guardado\")"
   ]
  },
  {
   "cell_type": "code",
   "execution_count": 2,
   "metadata": {},
   "outputs": [
    {
     "name": "stderr",
     "output_type": "stream",
     "text": [
      "WARNING: Logging before flag parsing goes to stderr.\n",
      "W0821 12:02:31.893424 140734893671872 deprecation.py:506] From /Library/Frameworks/Python.framework/Versions/3.6/lib/python3.6/site-packages/tensorflow/python/ops/init_ops.py:97: calling VarianceScaling.__init__ (from tensorflow.python.ops.init_ops) with dtype is deprecated and will be removed in a future version.\n",
      "Instructions for updating:\n",
      "Call initializer instance with the dtype argument instead of passing it to the constructor\n",
      "W0821 12:02:31.897029 140734893671872 deprecation.py:506] From /Library/Frameworks/Python.framework/Versions/3.6/lib/python3.6/site-packages/tensorflow/python/ops/init_ops.py:97: calling Zeros.__init__ (from tensorflow.python.ops.init_ops) with dtype is deprecated and will be removed in a future version.\n",
      "Instructions for updating:\n",
      "Call initializer instance with the dtype argument instead of passing it to the constructor\n",
      "W0821 12:02:32.121144 140734893671872 deprecation.py:506] From /Library/Frameworks/Python.framework/Versions/3.6/lib/python3.6/site-packages/tensorflow/python/ops/init_ops.py:97: calling GlorotUniform.__init__ (from tensorflow.python.ops.init_ops) with dtype is deprecated and will be removed in a future version.\n",
      "Instructions for updating:\n",
      "Call initializer instance with the dtype argument instead of passing it to the constructor\n"
     ]
    },
    {
     "name": "stdout",
     "output_type": "stream",
     "text": [
      "Modelo cargado desde el computador\n"
     ]
    }
   ],
   "source": [
    "json_file = open('model.json', 'r')\n",
    "loaded_model_json = json_file.read()\n",
    "json_file.close()\n",
    "loaded_model = keras.models.model_from_json(loaded_model_json)\n",
    "#Abriendo pesos del modelo creado\n",
    "loaded_model.load_weights(\"modeloFinalDrop.h5\")\n",
    "print(\"Modelo cargado desde el computador\")\n",
    " \n"
   ]
  },
  {
   "cell_type": "code",
   "execution_count": null,
   "metadata": {},
   "outputs": [],
   "source": [
    "#Evaluar el modelo cargado\n",
    "opt = keras.optimizers.SGD(lr=0.001, momentum=0.9)\n",
    "loaded_model.compile(optimizer=opt, loss='sparse_categorical_crossentropy',metrics=['accuracy'])\n",
    "score = loaded_model.evaluate(xTest, yTest, verbose=0)\n",
    "print(\"%s: %.2f%%\" % (loaded_model.metrics_names[1], score[1]*100))"
   ]
  },
  {
   "cell_type": "code",
   "execution_count": 15,
   "metadata": {},
   "outputs": [
    {
     "name": "stdout",
     "output_type": "stream",
     "text": [
      "1/1 [==============================] - 0s 31ms/sample\n",
      "Caracter: ' 6 '\n"
     ]
    },
    {
     "data": {
      "image/png": "[encoded data removed]",
      "text/plain": [
       "<matplotlib.figure.Figure at 0x146684470>"
      ]
     },
     "metadata": {
      "needs_background": "light"
     },
     "output_type": "display_data"
    }
   ],
   "source": [
    "img = cv.cvtColor(cv.imread(\"pruebas/Letras/6.png\"),cv.COLOR_BGR2RGB)\n",
    "img = cv.resize(img, (32, 32))\n",
    "imgG = cv.cvtColor(img, cv.COLOR_BGR2GRAY)\n",
    "imgG = tf.contrib.keras.preprocessing.image.img_to_array(imgG)\n",
    "imgG = np.expand_dims(imgG, axis=0);\n",
    "plt.imshow(img,cmap='gray');\n",
    "\n",
    "features_res_classes = loaded_model.predict_classes(imgG, verbose=1)\n",
    "print(\"Caracter: '\",clases[features_res_classes[0]],\"'\")"
   ]
  },
  {
   "cell_type": "code",
   "execution_count": 26,
   "metadata": {},
   "outputs": [
    {
     "name": "stdout",
     "output_type": "stream",
     "text": [
      "1/1 [==============================] - 0s 9ms/sample\n",
      "Caracter: ' 0 '\n"
     ]
    },
    {
     "data": {
      "image/png": "[encoded data removed]",
      "text/plain": [
       "<matplotlib.figure.Figure at 0x15162b240>"
      ]
     },
     "metadata": {
      "needs_background": "light"
     },
     "output_type": "display_data"
    }
   ],
   "source": [
    "img = cv.cvtColor(cv.imread(\"pruebas/Letras/0.png\"),cv.COLOR_BGR2RGB)\n",
    "img = cv.resize(img, (32, 32))\n",
    "imgG = cv.cvtColor(img, cv.COLOR_BGR2GRAY)\n",
    "imgG = tf.contrib.keras.preprocessing.image.img_to_array(imgG)\n",
    "imgG = np.expand_dims(imgG, axis=0);\n",
    "plt.imshow(img,cmap='gray');\n",
    "\n",
    "features_res_classes = loaded_model.predict_classes(imgG, verbose=1)\n",
    "print(\"Caracter: '\",clases[features_res_classes[0]],\"'\")"
   ]
  },
  {
   "cell_type": "code",
   "execution_count": 29,
   "metadata": {},
   "outputs": [
    {
     "name": "stdout",
     "output_type": "stream",
     "text": [
      "1/1 [==============================] - 0s 4ms/sample\n",
      "Caracter: ' C '\n"
     ]
    },
    {
     "data": {
      "image/png": "[encoded data removed]",
      "text/plain": [
       "<matplotlib.figure.Figure at 0x15216e588>"
      ]
     },
     "metadata": {
      "needs_background": "light"
     },
     "output_type": "display_data"
    }
   ],
   "source": [
    "img = cv.cvtColor(cv.imread(\"pruebas/Letras/C.png\"),cv.COLOR_BGR2RGB)\n",
    "img = cv.resize(img, (32, 32))\n",
    "imgG = cv.cvtColor(img, cv.COLOR_BGR2GRAY)\n",
    "imgG = tf.contrib.keras.preprocessing.image.img_to_array(imgG)\n",
    "imgG = np.expand_dims(imgG, axis=0);\n",
    "plt.imshow(img,cmap='gray');\n",
    "\n",
    "features_res_classes = loaded_model.predict_classes(imgG, verbose=1)\n",
    "print(\"Caracter: '\",clases[features_res_classes[0]],\"'\")"
   ]
  },
  {
   "cell_type": "code",
   "execution_count": 16,
   "metadata": {},
   "outputs": [
    {
     "name": "stdout",
     "output_type": "stream",
     "text": [
      "1/1 [==============================] - 0s 2ms/sample\n",
      "Caracter: ' I '\n"
     ]
    },
    {
     "data": {
      "image/png": "[encoded data removed]",
      "text/plain": [
       "<matplotlib.figure.Figure at 0x140d1c2b0>"
      ]
     },
     "metadata": {
      "needs_background": "light"
     },
     "output_type": "display_data"
    }
   ],
   "source": [
    "img = cv.cvtColor(cv.imread(\"pruebas/Letras/I.png\"),cv.COLOR_BGR2RGB)\n",
    "img = cv.resize(img, (32, 32))\n",
    "imgG = cv.cvtColor(img, cv.COLOR_BGR2GRAY)\n",
    "imgG = tf.contrib.keras.preprocessing.image.img_to_array(imgG)\n",
    "imgG = np.expand_dims(imgG, axis=0);\n",
    "plt.imshow(img,cmap='gray');\n",
    "\n",
    "features_res_classes = loaded_model.predict_classes(imgG, verbose=1)\n",
    "print(\"Caracter: '\",clases[features_res_classes[0]],\"'\")"
   ]
  },
  {
   "cell_type": "markdown",
   "metadata": {},
   "source": [
    "### CNN\n",
    "Resultados de la red convolucional"
   ]
  },
  {
   "cell_type": "code",
   "execution_count": 24,
   "metadata": {},
   "outputs": [
    {
     "data": {
      "text/plain": [
       "<matplotlib.legend.Legend at 0x1516724e0>"
      ]
     },
     "execution_count": 24,
     "metadata": {},
     "output_type": "execute_result"
    },
    {
     "data": {
      "image/png": "[encoded data removed]",
      "text/plain": [
       "<matplotlib.figure.Figure at 0x1512a6b00>"
      ]
     },
     "metadata": {
      "needs_background": "light"
     },
     "output_type": "display_data"
    }
   ],
   "source": [
    "plt.plot(history2.history['acc'], label='Train Accuracy')\n",
    "plt.plot(history2.history['val_acc'], label='Validation Accuracy')\n",
    "plt.plot(history2.history['loss'], label='Train Loss')\n",
    "plt.plot(history2.history['val_loss'], label='Validation Loss')\n",
    "plt.xlabel('Epochs')\n",
    "plt.ylabel('Accuracy')\n",
    "plt.legend()"
   ]
  },
  {
   "cell_type": "code",
   "execution_count": 32,
   "metadata": {},
   "outputs": [
    {
     "name": "stdout",
     "output_type": "stream",
     "text": [
      "(19377, 32, 32, 1)\n"
     ]
    }
   ],
   "source": [
    "print(xTrain.shape)"
   ]
  },
  {
   "cell_type": "code",
   "execution_count": 45,
   "metadata": {},
   "outputs": [
    {
     "name": "stdout",
     "output_type": "stream",
     "text": [
      "19377 4846\n"
     ]
    }
   ],
   "source": [
    "print(len(imagenesTrain),len(imagenesTest))"
   ]
  },
  {
   "cell_type": "code",
   "execution_count": 51,
   "metadata": {},
   "outputs": [],
   "source": [
    "imagenes = []\n",
    "clases = []\n",
    "\n",
    "for i in imagenesTrain:\n",
    "    imgFlat = i[0].reshape(32*32)\n",
    "    imagenes.append(imgFlat)\n",
    "    clases.append(i[1])\n",
    "    \n",
    "for i in imagenesTest:\n",
    "    imgFlat = i[0].reshape(32*32)\n",
    "    imagenes.append(imgFlat)\n",
    "    clases.append(i[1])"
   ]
  },
  {
   "cell_type": "code",
   "execution_count": 52,
   "metadata": {},
   "outputs": [],
   "source": [
    "imagenes = np.array(imagenes)\n",
    "clases = np.array(clases)"
   ]
  },
  {
   "cell_type": "code",
   "execution_count": 53,
   "metadata": {},
   "outputs": [
    {
     "name": "stdout",
     "output_type": "stream",
     "text": [
      "(24223, 1024) (24223,)\n"
     ]
    }
   ],
   "source": [
    "print(imagenes.shape, clases.shape)"
   ]
  },
  {
   "cell_type": "code",
   "execution_count": 54,
   "metadata": {},
   "outputs": [
    {
     "name": "stdout",
     "output_type": "stream",
     "text": [
      "[29 15  0 ...  9 11  0]\n"
     ]
    }
   ],
   "source": [
    "from sklearn.model_selection import train_test_split\n",
    "test_size = 0.2\n",
    "X_train, X_test, y_train, y_test = train_test_split(imagenes,clases,test_size=test_size)\n",
    "print(y_test)"
   ]
  },
  {
   "cell_type": "markdown",
   "metadata": {},
   "source": [
    "## Random Forest"
   ]
  },
  {
   "cell_type": "code",
   "execution_count": 55,
   "metadata": {
    "scrolled": true
   },
   "outputs": [
    {
     "data": {
      "text/plain": [
       "RandomForestClassifier(bootstrap=True, class_weight=None, criterion='gini',\n",
       "                       max_depth=None, max_features='auto', max_leaf_nodes=None,\n",
       "                       min_impurity_decrease=0.0, min_impurity_split=None,\n",
       "                       min_samples_leaf=1, min_samples_split=2,\n",
       "                       min_weight_fraction_leaf=0.0, n_estimators=100,\n",
       "                       n_jobs=None, oob_score=False, random_state=None,\n",
       "                       verbose=0, warm_start=False)"
      ]
     },
     "execution_count": 55,
     "metadata": {},
     "output_type": "execute_result"
    }
   ],
   "source": [
    "from sklearn.ensemble import RandomForestClassifier\n",
    "\n",
    "modelo_RF = RandomForestClassifier(n_estimators=100)\n",
    "\n",
    "modelo_RF.fit(X_train,y_train)"
   ]
  },
  {
   "cell_type": "code",
   "execution_count": 56,
   "metadata": {},
   "outputs": [
    {
     "name": "stdout",
     "output_type": "stream",
     "text": [
      "Precision para las de Test con Random Forest: 0.8771929824561403\n",
      "Precision para las de Train con Random Forest: 0.9941686448549902\n"
     ]
    }
   ],
   "source": [
    "print(\"Precision para las de Test con Random Forest:\",modelo_RF.score(X_test, y_test))\n",
    "print(\"Precision para las de Train con Random Forest:\",modelo_RF.score(X_train, y_train))"
   ]
  },
  {
   "cell_type": "markdown",
   "metadata": {},
   "source": [
    "## KNN"
   ]
  },
  {
   "cell_type": "code",
   "execution_count": 57,
   "metadata": {},
   "outputs": [
    {
     "name": "stdout",
     "output_type": "stream",
     "text": [
      "Precision para las de Test con KNN: 0.743859649122807\n",
      "Precision para las de Train con KNN: 0.8480235318402312\n"
     ]
    }
   ],
   "source": [
    "from sklearn.neighbors import KNeighborsClassifier\n",
    "\n",
    "neigh = KNeighborsClassifier(n_neighbors=5)\n",
    "\n",
    "neigh.fit(X_train, y_train)\n",
    "print(\"Precision para las de Test con KNN:\",neigh.score(X_test, y_test))\n",
    "print(\"Precision para las de Train con KNN:\",neigh.score(X_train, y_train))"
   ]
  },
  {
   "cell_type": "code",
   "execution_count": null,
   "metadata": {},
   "outputs": [],
   "source": []
  },
  {
   "cell_type": "code",
   "execution_count": null,
   "metadata": {},
   "outputs": [],
   "source": []
  },
  {
   "cell_type": "code",
   "execution_count": null,
   "metadata": {},
   "outputs": [],
   "source": []
  }
 ],
 "metadata": {
  "kernelspec": {
   "display_name": "Python 3",
   "language": "python",
   "name": "python3"
  },
  "language_info": {
   "codemirror_mode": {
    "name": "ipython",
    "version": 3
   },
   "file_extension": ".py",
   "mimetype": "text/x-python",
   "name": "python",
   "nbconvert_exporter": "python",
   "pygments_lexer": "ipython3",
   "version": "3.6.0"
  }
 },
 "nbformat": 4,
 "nbformat_minor": 2
}
